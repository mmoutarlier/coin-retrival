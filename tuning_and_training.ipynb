{
 "cells": [
  {
   "cell_type": "markdown",
   "metadata": {},
   "source": [
    "**Group ID:** 9\n",
    "\n",
    "**Kaggle Team Name:** Normal BGs\n",
    "\n",
    "**Author 1 (sciper):** Sébastien Chaoud (316240)       \n",
    "**Author 2 (sciper):** Marine Moutarlier (310703)       \n",
    "**Author 3 (sciper):** Paul Boulenger (312041)\n"
   ]
  },
  {
   "cell_type": "markdown",
   "metadata": {},
   "source": [
    "Useful imports "
   ]
  },
  {
   "cell_type": "code",
   "execution_count": null,
   "metadata": {},
   "outputs": [],
   "source": [
    "import sys\n",
    "import numpy as np\n",
    "import cv2 as cv\n",
    "from segmentation_utils import *\n",
    "import random\n",
    "import os\n",
    "import scipy\n",
    "import pandas as pd\n",
    "import json\n",
    "import streamlit as st\n",
    "import matplotlib.pyplot as plt\n",
    "import joblib\n",
    "from torch.utils.data import Dataset, DataLoader\n",
    "from torchvision import transforms\n",
    "import PIL\n",
    "import torch\n",
    "\n",
    "%load_ext autoreload\n",
    "%autoreload 2"
   ]
  },
  {
   "cell_type": "markdown",
   "metadata": {},
   "source": [
    "# 1. Detecting the background of the image\n",
    "\n",
    "To detect the coin on each image, we will apply a segmentation process. This segmentation process is distinct for each background type. Hence we first need to detect the background of each image."
   ]
  },
  {
   "cell_type": "markdown",
   "metadata": {},
   "source": [
    "### 1.1 Load the train data and resize the images"
   ]
  },
  {
   "cell_type": "code",
   "execution_count": 3,
   "metadata": {},
   "outputs": [],
   "source": [
    "train_data_path = \"data/train\"\n",
    "# Check if folder and image exist\n",
    "name_to_subfolder = {\n",
    "    \"neutral\" : \"1. neutral_bg\",\n",
    "    \"noisy\" : \"2. noisy_bg\",\n",
    "    \"hand\" : \"3. hand\", \n",
    "    \"neutral_outliers\" : \"4. neutral_bg_outliers\",\n",
    "    \"noisy_outliers\" : \"5. noisy_bg_outliers\",\n",
    "    \"hand_outliers\" : \"6. hand_outliers\"\n",
    "}\n",
    "\n",
    "# Check if folder and image exist\n",
    "\n",
    "ref_chf_path = f\"data/ref/ref_chf.JPG\"\n",
    "ref_euro_path = f\"data/ref/ref_eur.JPG\""
   ]
  },
  {
   "cell_type": "code",
   "execution_count": 4,
   "metadata": {},
   "outputs": [
    {
     "name": "stderr",
     "output_type": "stream",
     "text": [
      "Reading images in data/train/1. neutral_bg...: 100%|██████████| 16/16 [00:06<00:00,  2.29it/s]\n",
      "Reading images in data/train/2. noisy_bg...: 100%|██████████| 15/15 [00:07<00:00,  1.93it/s]\n",
      "Reading images in data/train/3. hand...: 100%|██████████| 10/10 [00:05<00:00,  1.93it/s]\n",
      "Reading images in data/train/4. neutral_bg_outliers...: 100%|██████████| 17/17 [00:08<00:00,  1.94it/s]\n",
      "Reading images in data/train/5. noisy_bg_outliers...: 100%|██████████| 16/16 [00:08<00:00,  1.87it/s]\n",
      "Reading images in data/train/6. hand_outliers...: 100%|██████████| 7/7 [00:03<00:00,  2.00it/s]\n",
      "Resizing neutral images: 100%|██████████| 16/16 [00:00<00:00, 814.71it/s]\n",
      "Resizing noisy images: 100%|██████████| 15/15 [00:00<00:00, 880.68it/s]\n",
      "Resizing hand images: 100%|██████████| 10/10 [00:00<00:00, 864.47it/s]\n",
      "Resizing neutral_outliers images: 100%|██████████| 17/17 [00:00<00:00, 835.08it/s]\n",
      "Resizing noisy_outliers images: 100%|██████████| 16/16 [00:00<00:00, 852.44it/s]\n",
      "Resizing hand_outliers images: 100%|██████████| 7/7 [00:00<00:00, 824.12it/s]\n"
     ]
    }
   ],
   "source": [
    "# Load images\n",
    "images: dict[str, list[np.ndarray]] = {}\n",
    "for name, subfolder in name_to_subfolder.items():\n",
    "    images[name] = read_all_images(f\"{train_data_path}/{subfolder}\")\n",
    "    \n",
    "# Resize images for faster processing\n",
    "for name in images.keys():\n",
    "    images[name] = [resize_image(image, (300, 200)) for image in tqdm(images[name], desc=f'Resizing {name} images')]"
   ]
  },
  {
   "cell_type": "markdown",
   "metadata": {},
   "source": [
    "### 1.2 Compute the color features\n",
    "\n",
    "In order to perform backround detection, we need to compute the color features of the image. We will use the following features:\n",
    "- **Mean color**: the average color of the image\n",
    "- **Standard deviation of the color**: the standard deviation of the color of the image\n",
    "- **Skewness of the color**: the skewness of the color of the image\n",
    "\n",
    "These features will be computed for each channel of the image (R, G, B). \n",
    "They are robust to the presence of noise and geometric transformations. "
   ]
  },
  {
   "cell_type": "code",
   "execution_count": 6,
   "metadata": {},
   "outputs": [
    {
     "name": "stderr",
     "output_type": "stream",
     "text": [
      "neutral: 100%|██████████| 16/16 [00:00<00:00, 250.77it/s]\n",
      "noisy: 100%|██████████| 15/15 [00:00<00:00, 280.23it/s]\n",
      "hand: 100%|██████████| 10/10 [00:00<00:00, 269.77it/s]\n",
      "neutral_outliers: 100%|██████████| 17/17 [00:00<00:00, 246.60it/s]\n",
      "noisy_outliers: 100%|██████████| 16/16 [00:00<00:00, 276.92it/s]\n",
      "hand_outliers: 100%|██████████| 7/7 [00:00<00:00, 267.81it/s]\n"
     ]
    }
   ],
   "source": [
    "def color_moments(image: np.ndarray) -> list[float]:\n",
    "    moments = []\n",
    "    for i in range(3):  # Iterate over the color channels\n",
    "        channel = image[:, :, i]\n",
    "        moments.extend([np.mean(channel), np.std(channel), scipy.stats.skew(channel.flatten())])\n",
    "    return moments\n",
    "\n",
    "# Compute color moments for each image\n",
    "image_features = {}\n",
    "for name in images.keys():\n",
    "    image_features[name] = [color_moments(image) for image in tqdm(images[name], desc=f'{name}')]"
   ]
  },
  {
   "cell_type": "code",
   "execution_count": 7,
   "metadata": {},
   "outputs": [
    {
     "data": {
      "text/html": [
       "<div>\n",
       "<style scoped>\n",
       "    .dataframe tbody tr th:only-of-type {\n",
       "        vertical-align: middle;\n",
       "    }\n",
       "\n",
       "    .dataframe tbody tr th {\n",
       "        vertical-align: top;\n",
       "    }\n",
       "\n",
       "    .dataframe thead th {\n",
       "        text-align: right;\n",
       "    }\n",
       "</style>\n",
       "<table border=\"1\" class=\"dataframe\">\n",
       "  <thead>\n",
       "    <tr style=\"text-align: right;\">\n",
       "      <th></th>\n",
       "      <th>r_mean</th>\n",
       "      <th>r_std</th>\n",
       "      <th>r_skew</th>\n",
       "      <th>g_mean</th>\n",
       "      <th>g_std</th>\n",
       "      <th>g_skew</th>\n",
       "      <th>b_mean</th>\n",
       "      <th>b_std</th>\n",
       "      <th>b_skew</th>\n",
       "      <th>label</th>\n",
       "      <th>label_id</th>\n",
       "    </tr>\n",
       "  </thead>\n",
       "  <tbody>\n",
       "    <tr>\n",
       "      <th>0</th>\n",
       "      <td>203.345883</td>\n",
       "      <td>9.324227</td>\n",
       "      <td>-3.052122</td>\n",
       "      <td>196.982633</td>\n",
       "      <td>13.955017</td>\n",
       "      <td>-2.757993</td>\n",
       "      <td>188.829300</td>\n",
       "      <td>25.039076</td>\n",
       "      <td>-3.122179</td>\n",
       "      <td>neutral</td>\n",
       "      <td>0</td>\n",
       "    </tr>\n",
       "    <tr>\n",
       "      <th>1</th>\n",
       "      <td>202.881900</td>\n",
       "      <td>8.893722</td>\n",
       "      <td>-3.918752</td>\n",
       "      <td>197.117350</td>\n",
       "      <td>11.544965</td>\n",
       "      <td>-3.543600</td>\n",
       "      <td>190.640367</td>\n",
       "      <td>16.222087</td>\n",
       "      <td>-3.170218</td>\n",
       "      <td>neutral</td>\n",
       "      <td>0</td>\n",
       "    </tr>\n",
       "    <tr>\n",
       "      <th>2</th>\n",
       "      <td>203.852167</td>\n",
       "      <td>9.602412</td>\n",
       "      <td>-3.269019</td>\n",
       "      <td>197.318233</td>\n",
       "      <td>15.300150</td>\n",
       "      <td>-3.552859</td>\n",
       "      <td>189.929900</td>\n",
       "      <td>22.870830</td>\n",
       "      <td>-3.490962</td>\n",
       "      <td>neutral</td>\n",
       "      <td>0</td>\n",
       "    </tr>\n",
       "    <tr>\n",
       "      <th>3</th>\n",
       "      <td>203.531267</td>\n",
       "      <td>8.303856</td>\n",
       "      <td>-2.391064</td>\n",
       "      <td>196.750317</td>\n",
       "      <td>14.702960</td>\n",
       "      <td>-3.147139</td>\n",
       "      <td>188.429767</td>\n",
       "      <td>26.127521</td>\n",
       "      <td>-3.293728</td>\n",
       "      <td>neutral</td>\n",
       "      <td>0</td>\n",
       "    </tr>\n",
       "    <tr>\n",
       "      <th>4</th>\n",
       "      <td>203.543633</td>\n",
       "      <td>9.606001</td>\n",
       "      <td>-3.461870</td>\n",
       "      <td>196.190333</td>\n",
       "      <td>16.938585</td>\n",
       "      <td>-3.601948</td>\n",
       "      <td>187.917567</td>\n",
       "      <td>26.774591</td>\n",
       "      <td>-3.385099</td>\n",
       "      <td>neutral</td>\n",
       "      <td>0</td>\n",
       "    </tr>\n",
       "  </tbody>\n",
       "</table>\n",
       "</div>"
      ],
      "text/plain": [
       "       r_mean     r_std    r_skew      g_mean      g_std    g_skew  \\\n",
       "0  203.345883  9.324227 -3.052122  196.982633  13.955017 -2.757993   \n",
       "1  202.881900  8.893722 -3.918752  197.117350  11.544965 -3.543600   \n",
       "2  203.852167  9.602412 -3.269019  197.318233  15.300150 -3.552859   \n",
       "3  203.531267  8.303856 -2.391064  196.750317  14.702960 -3.147139   \n",
       "4  203.543633  9.606001 -3.461870  196.190333  16.938585 -3.601948   \n",
       "\n",
       "       b_mean      b_std    b_skew    label  label_id  \n",
       "0  188.829300  25.039076 -3.122179  neutral         0  \n",
       "1  190.640367  16.222087 -3.170218  neutral         0  \n",
       "2  189.929900  22.870830 -3.490962  neutral         0  \n",
       "3  188.429767  26.127521 -3.293728  neutral         0  \n",
       "4  187.917567  26.774591 -3.385099  neutral         0  "
      ]
     },
     "execution_count": 7,
     "metadata": {},
     "output_type": "execute_result"
    }
   ],
   "source": [
    "# Group all features into a single dataset\n",
    "features = np.concatenate([image_features[name] for name in images.keys()])\n",
    "bg_names = np.concatenate([np.full(len(images[name]), name) for name in images.keys()])\n",
    "\n",
    "dataset = pd.DataFrame(features)\n",
    "dataset.columns = ['r_mean', 'r_std', 'r_skew', 'g_mean', 'g_std', 'g_skew', 'b_mean', 'b_std', 'b_skew']\n",
    "\n",
    "dataset['label'] = [name.split('_')[0] for name in bg_names]\n",
    "dataset['label_id'] = dataset['label'].factorize()[0]\n",
    "dataset.head()"
   ]
  },
  {
   "cell_type": "code",
   "execution_count": 8,
   "metadata": {},
   "outputs": [],
   "source": [
    "X = dataset[['r_mean', 'r_std', 'r_skew', 'g_mean', 'g_std', 'g_skew', 'b_mean', 'b_std', 'b_skew']].values\n",
    "y = dataset['label_id'].values"
   ]
  },
  {
   "cell_type": "markdown",
   "metadata": {},
   "source": [
    "### 1.3 Train a SVM classifier\n",
    "\n",
    "We will train a SVM classifier to detect the background of the image based on the color features. "
   ]
  },
  {
   "cell_type": "code",
   "execution_count": 2,
   "metadata": {},
   "outputs": [
    {
     "name": "stdout",
     "output_type": "stream",
     "text": [
      "Accuracy on the training set: 100.000000%\n",
      "Accuracy on the val set: 100.000000%\n"
     ]
    }
   ],
   "source": [
    "from sklearn.svm import SVC\n",
    "from sklearn.model_selection import train_test_split\n",
    "from sklearn.preprocessing import StandardScaler\n",
    "\n",
    "# Split the dataset into training and validation sets with stratification to keep the same class distribution\n",
    "X_train, X_val, y_train, y_val = train_test_split(X, y, test_size=0.2, stratify=y)\n",
    "\n",
    "# Standardize features\n",
    "scaler = StandardScaler()\n",
    "X_train = scaler.fit_transform(X_train)\n",
    "X_val = scaler.transform(X_val)\n",
    "\n",
    "# Train the classifier\n",
    "classifier = SVC()\n",
    "classifier.fit(X_train, y_train)\n",
    "train_accuracy = classifier.score(X_train, y_train)\n",
    "print(f'Accuracy on the training set: {train_accuracy:%}')\n",
    "\n",
    "# Evaluate the classifier\n",
    "eval_accuracy = classifier.score(X_val, y_val)\n",
    "print(f'Accuracy on the val set: {eval_accuracy:%}')"
   ]
  },
  {
   "cell_type": "markdown",
   "metadata": {},
   "source": [
    "Our calssifer as shown 100% accuracy on a validation set. We will not be able to measure it for this test set but we hope it to bas as good."
   ]
  },
  {
   "cell_type": "code",
   "execution_count": 39,
   "metadata": {},
   "outputs": [
    {
     "data": {
      "text/plain": [
       "['models_weights/bg_scaler_small.pkl']"
      ]
     },
     "execution_count": 39,
     "metadata": {},
     "output_type": "execute_result"
    }
   ],
   "source": [
    "# Save the classifier and the scaler in order to use them later for inference on the test images\n",
    "# Inference will be done in a separate script : inference_test_set.ipynb\n",
    "\n",
    "classifier_path = 'models_weights/bg_classifier_small.pkl'\n",
    "scaler_path = 'models_weights/bg_scaler_small.pkl'\n",
    "joblib.dump(classifier, classifier_path)\n",
    "joblib.dump(scaler, scaler_path)"
   ]
  },
  {
   "cell_type": "markdown",
   "metadata": {},
   "source": [
    "# 2. Proceed to crop the coins "
   ]
  },
  {
   "cell_type": "markdown",
   "metadata": {},
   "source": [
    "## 2.1 If the background is neutral "
   ]
  },
  {
   "cell_type": "markdown",
   "metadata": {},
   "source": [
    "### 2.1.1 Computing average and median of all neutral back-ground image from the train set\n",
    "By doing this, we want to remove this average or median from every images to hopefully get the image without the background and be able to retrieve the coins. This is done on the train set."
   ]
  },
  {
   "cell_type": "code",
   "execution_count": null,
   "metadata": {},
   "outputs": [],
   "source": [
    "#Save a path to store the average background\n",
    "average_bg_path = \"data/average_bgs\""
   ]
  },
  {
   "cell_type": "code",
   "execution_count": null,
   "metadata": {},
   "outputs": [],
   "source": [
    "#Iterate over neutral images with and without outliers\n",
    "neutral_bg_imgs = read_all_images(f\"{train_data_path}/{name_to_subfolder['neutral']}\")\n",
    "neutral_bg_oods_imgs = read_all_images(f\"{train_data_path}/{name_to_subfolder[f'neutral_outliers']}\")\n",
    "\n",
    "all_neutral_imgs = neutral_bg_imgs + neutral_bg_oods_imgs"
   ]
  },
  {
   "cell_type": "code",
   "execution_count": null,
   "metadata": {},
   "outputs": [],
   "source": [
    "#Compute the average and median background\n",
    "average_neutral_bg = average_all_images(all_neutral_imgs)\n",
    "median_neutral_bg= median_all_images(all_neutral_imgs)"
   ]
  },
  {
   "cell_type": "code",
   "execution_count": null,
   "metadata": {},
   "outputs": [],
   "source": [
    "#Plot the average and median background\n",
    "\n",
    "plt.imshow(average_neutral_bg)\n",
    "plt.axis('off')\n",
    "plt.tight_layout()\n",
    "plt.title(f\"Average of all neutral images\")\n",
    "plt.show()\n",
    "\n",
    "plt.imshow(median_neutral_bg)\n",
    "plt.axis('off')\n",
    "plt.tight_layout()\n",
    "plt.title(f\"Median of all neutral images\")\n",
    "plt.show()"
   ]
  },
  {
   "cell_type": "code",
   "execution_count": null,
   "metadata": {},
   "outputs": [],
   "source": [
    "save_image(average_neutral_bg, f\"{average_bg_path}/average_neutral_bg.jpg\")\n",
    "save_image(median_neutral_bg, f\"{average_bg_path}/median_neutral_bg.jpg\")"
   ]
  },
  {
   "cell_type": "markdown",
   "metadata": {},
   "source": [
    "By plotting the two, we can manually chose which one encaptures the most the original background. After looking at these, we can see that median one looks better. "
   ]
  },
  {
   "cell_type": "markdown",
   "metadata": {},
   "source": [
    "### 2.1.2  Segement into coins using averaging of background"
   ]
  },
  {
   "cell_type": "markdown",
   "metadata": {},
   "source": [
    "We store the image of the median, for later use, either on the training set or the testing one."
   ]
  },
  {
   "cell_type": "code",
   "execution_count": null,
   "metadata": {},
   "outputs": [],
   "source": [
    "median_neutral_bg = read_image(f\"{average_bg_path}/median_neutral_bg.jpg\")"
   ]
  },
  {
   "cell_type": "markdown",
   "metadata": {},
   "source": [
    "### 2.1.3. We determine a threshold after removing the background to extract the coins"
   ]
  },
  {
   "cell_type": "markdown",
   "metadata": {},
   "source": [
    "The goal here is to apply a first pre-proccessing step to smooth out and to better visualize the coins. Since the coins have a differrent color than the neutral background, we can easily do a color threshold. We plot the rgb ditribution here to determine manually this threshold."
   ]
  },
  {
   "cell_type": "code",
   "execution_count": null,
   "metadata": {},
   "outputs": [],
   "source": [
    "for i, img in enumerate(random.sample(all_neutral_imgs, 5)):\n",
    "        img_no_bg = remove_background(img, median_neutral_bg)\n",
    "        img_no_bg_reduced = resize_image(img_no_bg, USE_SIZE_REF)\n",
    "        plot_colors_histo(img_no_bg_reduced, extract_rgb_channels,['R','G','B'])"
   ]
  },
  {
   "cell_type": "markdown",
   "metadata": {},
   "source": [
    "We use these to determine the following threshold:"
   ]
  },
  {
   "cell_type": "code",
   "execution_count": null,
   "metadata": {},
   "outputs": [],
   "source": [
    "negative_rgb_neutral_threshold = ThresholdRGB(\n",
    "    min_red=0,\n",
    "    max_red=255,\n",
    "    min_green=0,\n",
    "    max_green=255,\n",
    "    min_blue=0,\n",
    "    max_blue=45,\n",
    "    type=\"-\"\n",
    "    )"
   ]
  },
  {
   "cell_type": "markdown",
   "metadata": {},
   "source": [
    "### 2.1.4 Verifying the threshold"
   ]
  },
  {
   "cell_type": "markdown",
   "metadata": {},
   "source": [
    "We can plot the thresholded image to verify our previous assumption, and better adjust it."
   ]
  },
  {
   "cell_type": "code",
   "execution_count": null,
   "metadata": {},
   "outputs": [],
   "source": [
    "for i, img in enumerate(random.sample(all_neutral_imgs,5)):\n",
    "    img_no_bg = remove_background(img, median_neutral_bg)\n",
    "    img_no_bg_reduced = resize_image(img_no_bg, USE_SIZE_REF)\n",
    "    plot_image(img_no_bg_reduced, title=\"Image without background\")\n",
    "    img_thresholded = apply_thresholds(img_no_bg_reduced, [negative_rgb_neutral_threshold])\n",
    "    plot_image(img_thresholded, title=\"Thresholded Image\")"
   ]
  },
  {
   "cell_type": "markdown",
   "metadata": {},
   "source": [
    "The threshold is satisfying, yet not perfect, so we apply a few transformations.  This will help smoothing out the coins even more. We apply closing since the coins are not full. This will help with the further Hough detection on the coins. It might not be perfect if the coins are not fully circular."
   ]
  },
  {
   "cell_type": "code",
   "execution_count": null,
   "metadata": {},
   "outputs": [],
   "source": [
    "def neutral_img_transform(img):\n",
    "    processed_img = img.copy()\n",
    "    processed_img = apply_closing(processed_img, 6)\n",
    "    return processed_img.astype(np.uint8)"
   ]
  },
  {
   "cell_type": "markdown",
   "metadata": {},
   "source": [
    "We plot 5 randoms images to verify our pre-processing steps! if it looks good, we can move on the extraction."
   ]
  },
  {
   "cell_type": "code",
   "execution_count": null,
   "metadata": {},
   "outputs": [],
   "source": [
    "for img in random.sample(all_neutral_imgs,5):\n",
    "    img_no_bg = remove_background(img, median_neutral_bg)\n",
    "    img_no_bg_reduced = resize_image(img_no_bg, USE_SIZE_REF)\n",
    "    plot_image(img_no_bg_reduced, title=\"Image without background\")\n",
    "    img_thresholded = apply_thresholds(img_no_bg_reduced, [negative_rgb_neutral_threshold])\n",
    "    plot_image(img_thresholded, title=\"Thresholded Image\")\n",
    "    processed_img = neutral_img_transform(img_thresholded)\n",
    "    plot_image(processed_img)"
   ]
  },
  {
   "cell_type": "markdown",
   "metadata": {},
   "source": [
    "Now, we are ready to extract the coins from the images using hough circles detection"
   ]
  },
  {
   "cell_type": "markdown",
   "metadata": {},
   "source": [
    "### 2.1.5. We define a general background for our images"
   ]
  },
  {
   "cell_type": "markdown",
   "metadata": {},
   "source": [
    "We first start by defining a pad to crop the coins onto. It is the same and will help with the classification later on."
   ]
  },
  {
   "cell_type": "code",
   "execution_count": null,
   "metadata": {},
   "outputs": [],
   "source": [
    "pad_bg = all_neutral_imgs[1][0:1000,0:1000,:]\n",
    "pad_bg = cv.GaussianBlur(pad_bg, (7,7), 0)\n",
    "\n",
    "plot_image(pad_bg)"
   ]
  },
  {
   "cell_type": "markdown",
   "metadata": {},
   "source": [
    "We are now ready to exract the coins! All previous steps were implemented into a general function. It compuutes the Hough circle on the final processed image. Additionally it now stores the coins into a folder. This is good to check whether the extraction was done correctly and adjust the hyper parameters accordingly. The HP of the Hough detection was based on a trial and error. "
   ]
  },
  {
   "cell_type": "code",
   "execution_count": null,
   "metadata": {},
   "outputs": [],
   "source": [
    "neutral_no_ood_save_path = \"data/train_croped_coins/neutral_bg_no_ood\"\n",
    "\n",
    "segment_and_save_all_img(imgs_folder_path = f\"{train_data_path}/{name_to_subfolder['neutral']}\",\n",
    "                             background_img = median_neutral_bg,\n",
    "                             transformation_function = neutral_img_transform,\n",
    "                             thresholds = [negative_rgb_neutral_threshold], \n",
    "                             pad_bg = pad_bg,\n",
    "                             output_folder_path = neutral_no_ood_save_path)\n",
    "    "
   ]
  },
  {
   "cell_type": "code",
   "execution_count": null,
   "metadata": {},
   "outputs": [],
   "source": [
    "neutral_no_ood_save_path = \"data/train_croped_coins/neutral_bg_ood\"\n",
    "\n",
    "segment_and_save_all_img(imgs_folder_path = f\"{train_data_path}/{name_to_subfolder['neutral_outliers']}\",\n",
    "                             background_img = median_neutral_bg,\n",
    "                             transformation_function = neutral_img_transform,\n",
    "                             thresholds = [negative_rgb_neutral_threshold], \n",
    "                             pad_bg = pad_bg,\n",
    "                             output_folder_path = neutral_no_ood_save_path)"
   ]
  },
  {
   "cell_type": "code",
   "execution_count": null,
   "metadata": {},
   "outputs": [],
   "source": [
    "ref_save_path = f\"data/train_croped_coins/ref\"\n",
    "\n",
    "segment_and_save_all_img(imgs_folder_path = f\"data/ref\",\n",
    "                             background_img = median_neutral_bg,\n",
    "                             transformation_function = neutral_img_transform,\n",
    "                             thresholds = [negative_rgb_neutral_threshold], \n",
    "                             pad_bg = pad_bg,\n",
    "                             output_folder_path = ref_save_path)"
   ]
  },
  {
   "cell_type": "markdown",
   "metadata": {},
   "source": [
    "## 2.2 If the background is noisy "
   ]
  },
  {
   "cell_type": "markdown",
   "metadata": {},
   "source": [
    "### 2.2.1 Compute the average and median of the train noisy set "
   ]
  },
  {
   "cell_type": "markdown",
   "metadata": {},
   "source": [
    "By doing this, we want to remove this average or median from every images to hopefully get the image without the background and be able to retrieve the coins. This is done on the train set."
   ]
  },
  {
   "cell_type": "code",
   "execution_count": null,
   "metadata": {},
   "outputs": [],
   "source": [
    "#Save a path to store the average background\n",
    "noisy_bg_imgs = read_all_images(f\"{train_data_path}/{name_to_subfolder['noisy']}\")\n",
    "noisy_bg_oods_imgs = read_all_images(f\"{train_data_path}/{name_to_subfolder[f'noisy_outliers']}\")\n"
   ]
  },
  {
   "cell_type": "code",
   "execution_count": null,
   "metadata": {},
   "outputs": [],
   "source": [
    "#Iterate over noisy images with and without outliers\n",
    "average_noisy_bg = average_all_images(noisy_bg_imgs)\n",
    "median_noisy_bg = median_all_images(noisy_bg_imgs)\n",
    "\n",
    "average_noisy_ood_bg = average_all_images(noisy_bg_oods_imgs)\n",
    "median_noisy_ood_bg = median_all_images(noisy_bg_oods_imgs)"
   ]
  },
  {
   "cell_type": "code",
   "execution_count": null,
   "metadata": {},
   "outputs": [],
   "source": [
    "#Plot the average and median background\n",
    "\n",
    "plt.imshow(average_noisy_bg)\n",
    "plt.axis('off')\n",
    "plt.tight_layout()\n",
    "plt.title(f\"Average of all noisy images\")\n",
    "plt.show()\n",
    "\n",
    "plt.imshow(median_noisy_bg)\n",
    "plt.axis('off')\n",
    "plt.tight_layout()\n",
    "plt.title(f\"Median of all noisy images\")\n",
    "plt.show()\n",
    "\n",
    "plt.imshow(average_noisy_ood_bg)\n",
    "plt.axis('off')\n",
    "plt.tight_layout()\n",
    "plt.title(f\"Average of all noisy outliers images\")\n",
    "plt.show()\n",
    "\n",
    "plt.imshow(median_noisy_ood_bg)\n",
    "plt.axis('off')\n",
    "plt.tight_layout()\n",
    "plt.title(f\"Median of all noisy outliers images\")\n",
    "plt.show()\n"
   ]
  },
  {
   "cell_type": "code",
   "execution_count": null,
   "metadata": {},
   "outputs": [],
   "source": [
    "save_image(average_noisy_bg, f\"{average_bg_path}/average_noisy_no_ood_bg.jpg\")\n",
    "save_image(median_noisy_bg, f\"{average_bg_path}/median_noisy_no_ood_bg.jpg\")\n",
    "\n",
    "save_image(average_noisy_ood_bg, f\"{average_bg_path}/average_noisy_ood_bg.jpg\")\n",
    "save_image(median_noisy_ood_bg, f\"{average_bg_path}/median_noisy_ood_bg.jpg\")"
   ]
  },
  {
   "cell_type": "markdown",
   "metadata": {},
   "source": [
    "By plotting the two, we can manually chose which one encaptures the most the original background. After looking at these, we can see that median one looks better. "
   ]
  },
  {
   "cell_type": "markdown",
   "metadata": {},
   "source": [
    "### 2.2.2 Segement into coins using averaging of background"
   ]
  },
  {
   "cell_type": "markdown",
   "metadata": {},
   "source": [
    "We store the image of the median, for later use, either on the training set or the testing one."
   ]
  },
  {
   "cell_type": "code",
   "execution_count": null,
   "metadata": {},
   "outputs": [],
   "source": [
    "median_noisy_bg = read_image(f\"{average_bg_path}/median_noisy_no_ood_bg.jpg\")\n",
    "median_noisy_ood_bg = read_image(f\"{average_bg_path}/median_noisy_ood_bg.jpg\")"
   ]
  },
  {
   "cell_type": "markdown",
   "metadata": {},
   "source": [
    "### 2.2.3. We determine a threshold after removing the background to extract the coins"
   ]
  },
  {
   "cell_type": "markdown",
   "metadata": {},
   "source": [
    "The goal here is to apply a first pre-proccessing step to smooth out and to better visualize the coins. Since the coins have sometims a similar color than the noisy background, we can do a color threshold, but a lab one. We plot the lab distribution here to determine manually this threshold."
   ]
  },
  {
   "cell_type": "code",
   "execution_count": null,
   "metadata": {},
   "outputs": [],
   "source": [
    "for i, img in enumerate(random.sample(noisy_bg_imgs, 5)):\n",
    "                img_no_bg = remove_background(img, median_noisy_bg)\n",
    "                img_no_bg_reduced = resize_image(img_no_bg, USE_SIZE_REF)\n",
    "                plot_colors_histo(img_no_bg_reduced, extract_lab_channels,['L','A','B'])"
   ]
  },
  {
   "cell_type": "markdown",
   "metadata": {},
   "source": [
    "We use these to determine the following threshold:"
   ]
  },
  {
   "cell_type": "code",
   "execution_count": null,
   "metadata": {},
   "outputs": [],
   "source": [
    "negative_lab_noisy_threshold = ThresholdLAB(\n",
    "    min_l = 0,\n",
    "    max_l = 27,\n",
    "    min_a = -100,\n",
    "    max_a = 100,\n",
    "    min_b = -5,\n",
    "    max_b = 23,\n",
    "    type='-'\n",
    "    )"
   ]
  },
  {
   "cell_type": "markdown",
   "metadata": {},
   "source": [
    "### 2.2.4 Verifying the threshold "
   ]
  },
  {
   "cell_type": "markdown",
   "metadata": {},
   "source": [
    "We can plot the thresholded image to verify our previous assumption, and better adjust it."
   ]
  },
  {
   "cell_type": "code",
   "execution_count": null,
   "metadata": {},
   "outputs": [],
   "source": [
    "for i, img in enumerate(random.sample(noisy_bg_imgs,5)):\n",
    "    img_no_bg = remove_background(img, median_noisy_bg)\n",
    "    img_no_bg_reduced = resize_image(img_no_bg, USE_SIZE_REF)\n",
    "    img_thresholded = apply_thresholds(img_no_bg_reduced, [negative_lab_noisy_threshold])\n",
    "    plot_image(img_thresholded, title=\"Thresholded Image\")\n",
    "    print (img.shape)"
   ]
  },
  {
   "cell_type": "markdown",
   "metadata": {},
   "source": [
    "The threshold is satisfying, yet not perfect, so we apply a few transformations. This will help smoothing out the coins even more. We apply closing since the coins are not full, as well as a removing of objects since some of the background is picked up. This will help with the further Hough detection on the coins. It might not be perfect if the coins are not fully circular."
   ]
  },
  {
   "cell_type": "code",
   "execution_count": null,
   "metadata": {},
   "outputs": [],
   "source": [
    "def noisy_img_transform(img):\n",
    "    processed_img = img.copy()\n",
    "    \n",
    "    processed_img = remove_objects(processed_img, size = 500)\n",
    "    processed_img = apply_closing(processed_img, 7)\n",
    "\n",
    "    return processed_img.astype(np.uint8)"
   ]
  },
  {
   "cell_type": "markdown",
   "metadata": {},
   "source": [
    "We plot 5 randoms images to verify our pre-processing steps! if it looks good, we can move on the extraction."
   ]
  },
  {
   "cell_type": "code",
   "execution_count": null,
   "metadata": {},
   "outputs": [],
   "source": [
    "for img in random.sample(noisy_bg_imgs,5):\n",
    "    img_no_bg = remove_background(img, median_noisy_bg)\n",
    "    img_no_bg_reduced = resize_image(img_no_bg, USE_SIZE_REF)\n",
    "    plot_image(img_no_bg_reduced, title=\"Image without background\")\n",
    "    img_thresholded = apply_thresholds(img_no_bg_reduced, [negative_lab_noisy_threshold])\n",
    "    plot_image(img_thresholded, title=\"Thresholded Image\")\n",
    "    processed_img = noisy_img_transform(img_thresholded)\n",
    "    plot_image(processed_img)\n",
    "    print (processed_img.shape)"
   ]
  },
  {
   "cell_type": "markdown",
   "metadata": {},
   "source": [
    "### 2.2.5 Now, we are ready to extract the coins from the images."
   ]
  },
  {
   "cell_type": "markdown",
   "metadata": {},
   "source": [
    "We first start by defining a pad to crop the coins onto. It is the same and will help with the classification later on."
   ]
  },
  {
   "cell_type": "code",
   "execution_count": null,
   "metadata": {},
   "outputs": [],
   "source": [
    "pad_bg = noisy_bg_imgs[14][2000:3000,1000:2000,:]\n",
    "\n",
    "plot_image(pad_bg, title=\"Pad bg\")"
   ]
  },
  {
   "cell_type": "markdown",
   "metadata": {},
   "source": [
    "We are now ready to exract the coins! All previous steps were implemented into a general function. It computes the Hough circle on the final processed image. Additionally it now stores the coins into a folder. This is good to check whether the extraction was done correctly and adjust the hyper parameters accordingly. The HP of the Hough detection was based on a trial and error. "
   ]
  },
  {
   "cell_type": "code",
   "execution_count": null,
   "metadata": {},
   "outputs": [],
   "source": [
    "noisy_no_ood_save_path = \"data/train_croped_coins/noisy_bg_no_ood\"\n",
    "noisy_no_ood_save_path = \"data/train_croped_coins/noisy_bg_ood\"\n",
    "\n",
    "segment_and_save_all_img(imgs_folder_path = f\"{train_data_path}/{name_to_subfolder['noisy']}\",\n",
    "                             background_img = median_noisy_bg,\n",
    "                             transformation_function = noisy_img_transform,\n",
    "                             thresholds = [negative_lab_noisy_threshold], \n",
    "                             pad_bg = pad_bg,\n",
    "                             output_folder_path = noisy_no_ood_save_path,\n",
    "                             plot = False)\n",
    "\n",
    "segment_and_save_all_img(imgs_folder_path = f\"{train_data_path}/{name_to_subfolder['noisy_outliers']}\",\n",
    "                             background_img = median_noisy_bg,\n",
    "                             transformation_function = noisy_img_transform,\n",
    "                             thresholds = [negative_lab_noisy_threshold], \n",
    "                             pad_bg = pad_bg,\n",
    "                             output_folder_path = noisy_no_ood_save_path,\n",
    "                             plot = False)"
   ]
  },
  {
   "cell_type": "markdown",
   "metadata": {},
   "source": [
    "## 2.3 If the background is hand "
   ]
  },
  {
   "cell_type": "markdown",
   "metadata": {},
   "source": [
    "### 2.3.1 Getting the values of the hand images"
   ]
  },
  {
   "cell_type": "code",
   "execution_count": null,
   "metadata": {},
   "outputs": [],
   "source": [
    "#iterate over hand images with and without outliers\n",
    "hand_bg_imgs_1 = read_all_images(f\"{train_data_path}/{name_to_subfolder['hand']}\")\n",
    "hand_bg_imgs_2 = read_all_images(f\"{train_data_path}/{name_to_subfolder['hand_outliers']}\")\n",
    "\n",
    "hand_bg_imgs = hand_bg_imgs_1 + hand_bg_imgs_2"
   ]
  },
  {
   "cell_type": "markdown",
   "metadata": {},
   "source": [
    "### 2.3.2 We get a patch from the images "
   ]
  },
  {
   "cell_type": "markdown",
   "metadata": {},
   "source": [
    "We first start by defining a pad to crop the coins onto. It is the same and will help with the classification later on."
   ]
  },
  {
   "cell_type": "code",
   "execution_count": null,
   "metadata": {},
   "outputs": [],
   "source": [
    "pad_bg = hand_bg_imgs[9][2000:3000,1000:2000,:]\n",
    "\n",
    "plot_image(pad_bg, title=\"Pad bg\")"
   ]
  },
  {
   "cell_type": "markdown",
   "metadata": {},
   "source": [
    "### 2.3.3 We crop the coins after a applying a number of pre-processing steps"
   ]
  },
  {
   "cell_type": "markdown",
   "metadata": {},
   "source": [
    "Following the same model we extract the coins. Here the average or median of the hand did not look good as the positions of the hand was moving. Removing the background did not really help.\n"
   ]
  },
  {
   "cell_type": "code",
   "execution_count": null,
   "metadata": {},
   "outputs": [],
   "source": [
    "average_hand_bg = average_all_images(hand_bg_imgs)\n",
    "median_hand_bg = median_all_images(hand_bg_imgs)\n",
    "\n",
    "plt.imshow(average_hand_bg)\n",
    "plt.axis('off')\n",
    "plt.tight_layout()\n",
    "plt.title(f\"Average of all hand images\")\n",
    "plt.show()\n",
    "\n",
    "plt.imshow(median_hand_bg)\n",
    "plt.axis('off')\n",
    "plt.tight_layout()\n",
    "plt.title(f\"Median of all hand images\")\n",
    "plt.show()\n"
   ]
  },
  {
   "cell_type": "markdown",
   "metadata": {},
   "source": [
    "Since the average or median was not helping here, we went with another approach. \n",
    "Pre-processing steps were apply to remove the general frame of the hand and try to enhance the coins.\n",
    "- Grayscale Conversion: Simplifies image data for processing.\n",
    "- Gaussian Blur: Reduces noise and detail to prevent false edges.\n",
    "- Adaptive Thresholding: Handles varying lighting conditions to create a binary image.\n",
    "- Morphological Closing: Removes small holes and connects disjointed parts of objects.\n",
    "- Canny Edge Detection: Detects the edges of objects in the processed image.\n"
   ]
  },
  {
   "cell_type": "code",
   "execution_count": null,
   "metadata": {},
   "outputs": [],
   "source": [
    "hand_no_ood_save_path = \"data/train_croped_coins/hand\"\n",
    "\n",
    "\n",
    "segment_and_save_all_img_2(imgs_folder_path = f\"{train_data_path}/{name_to_subfolder['hand']}\",\n",
    "                           pad_bg = pad_bg,\n",
    "                           output_folder_path = hand_no_ood_save_path,\n",
    "                            processing_size=USE_SIZE_REF,\n",
    "                            min_area=3000)\n",
    "\n",
    "segment_and_save_all_img_2(imgs_folder_path = f\"{train_data_path}/{name_to_subfolder['hand_outliers']}\",\n",
    "                           pad_bg = pad_bg,\n",
    "                           output_folder_path = hand_no_ood_save_path,\n",
    "                            processing_size=USE_SIZE_REF,\n",
    "                            min_area=3000)\n"
   ]
  },
  {
   "cell_type": "markdown",
   "metadata": {},
   "source": [
    "Note: For this extraction, some HP were difficult to compute to have the best possible result. We have a few 'no coins' coins picked out. We decided to still go with them and to train a 'not a coin' class in the classification, in order to adjust this problem if it happened on the test set."
   ]
  },
  {
   "cell_type": "markdown",
   "metadata": {},
   "source": [
    "# 3. Labelling the cropped coins from the train set for classification for the test set"
   ]
  },
  {
   "cell_type": "markdown",
   "metadata": {},
   "source": [
    "### 3.1 Create a coin labelling app and manually label the coins\n",
    "\n",
    "In order to train a classifier to classify the coins, we need to label the coins in the train set. We will create a simple app to label the coins.\n",
    "\n",
    "This app allows for more efficient labelling by splitting the work load among multiple users.\n",
    "\n",
    "But also better robustness as we display the training_labels for the entire image. Hence we can label the coins more accurately by verifying that our segemented labels correspong to the label of the entire image.\n",
    "Labeling accuracy is critical for the classifier's performance.\n",
    "\n",
    "We added a 'Not a coin' class to label the images that do not contain any coin in order to account for segmentation errors."
   ]
  },
  {
   "cell_type": "code",
   "execution_count": 30,
   "metadata": {
    "ExecuteTime": {
     "end_time": "2024-05-26T19:44:17.594273Z",
     "start_time": "2024-05-26T19:44:17.123837Z"
    }
   },
   "outputs": [
    {
     "data": {
      "image/png": "[encoded data removed]",
      "text/plain": [
       "<Figure size 1000x1000 with 1 Axes>"
      ]
     },
     "metadata": {},
     "output_type": "display_data"
    }
   ],
   "source": [
    "## Use the developed app to label the coins\n",
    "# Laucmh the app with the follwoing script: 'streamlit run coin_labelling_app.py'\n",
    "\n",
    "im = read_image('data/labeling_app_image.png')\n",
    "fig, ax = plt.subplots(figsize=(10, 10))\n",
    "plot_image(im)"
   ]
  },
  {
   "cell_type": "markdown",
   "metadata": {},
   "source": [
    "### 3.2 Merge the manually labelled coins from each person into as single file"
   ]
  },
  {
   "cell_type": "code",
   "execution_count": 33,
   "metadata": {},
   "outputs": [],
   "source": [
    "# Merge the labels\n",
    "labels_1 = json.load(open('data/coin_train_labels_Paul.json'))\n",
    "labels_2 = json.load(open('data/coin_train_labels_Marine.json'))\n",
    "labels_3 = json.load(open('data/coin_train_labels_Seb.json'))\n",
    "labels = {**labels_1, **labels_2, **labels_3}\n",
    "\n",
    "# Save the labels\n",
    "with open('data/coin_train_labels.json', 'w') as f:\n",
    "    json.dump(labels, f, indent=4)"
   ]
  },
  {
   "cell_type": "markdown",
   "metadata": {},
   "source": [
    "# 4. Classify the cropped coins"
   ]
  },
  {
   "cell_type": "code",
   "execution_count": 1,
   "metadata": {
    "ExecuteTime": {
     "end_time": "2024-05-29T00:28:46.784633Z",
     "start_time": "2024-05-29T00:28:41.812687Z"
    }
   },
   "outputs": [],
   "source": [
    "import numpy as np\n",
    "import pandas as pd\n",
    "import json\n",
    "import cv2\n",
    "from sklearn.model_selection import train_test_split\n",
    "import torch\n",
    "from torch.utils.data import Dataset, DataLoader\n",
    "from torchvision.transforms import transforms\n",
    "import torchvision\n",
    "import PIL\n",
    "from torchvision.models import EfficientNet_V2_S_Weights\n",
    "from torch import nn"
   ]
  },
  {
   "cell_type": "markdown",
   "metadata": {},
   "source": [
    "### 4.1 Load the labeled data"
   ]
  },
  {
   "cell_type": "code",
   "execution_count": 36,
   "metadata": {
    "ExecuteTime": {
     "end_time": "2024-05-29T00:28:46.816268Z",
     "start_time": "2024-05-29T00:28:46.787570Z"
    }
   },
   "outputs": [
    {
     "name": "stdout",
     "output_type": "stream",
     "text": [
      "{'2CHF': 0, '2EUR': 1, '0.5CHF': 2, '0.5EUR': 3, '0.2EUR': 4, '0.1EUR': 5, '0.02EUR': 6, 'Not a coin': 7, '1CHF': 8, '5CHF': 9, '0.01EUR': 10, '0.05CHF': 11, '0.1CHF': 12, '0.2CHF': 13, '0.05EUR': 14, 'OOD': 15, '1EUR': 16}\n",
      "Number of classes: 17\n"
     ]
    },
    {
     "data": {
      "text/html": [
       "<div>\n",
       "<style scoped>\n",
       "    .dataframe tbody tr th:only-of-type {\n",
       "        vertical-align: middle;\n",
       "    }\n",
       "\n",
       "    .dataframe tbody tr th {\n",
       "        vertical-align: top;\n",
       "    }\n",
       "\n",
       "    .dataframe thead th {\n",
       "        text-align: right;\n",
       "    }\n",
       "</style>\n",
       "<table border=\"1\" class=\"dataframe\">\n",
       "  <thead>\n",
       "    <tr style=\"text-align: right;\">\n",
       "      <th></th>\n",
       "      <th>image_path</th>\n",
       "      <th>label</th>\n",
       "      <th>label_id</th>\n",
       "      <th>image_path_trunc</th>\n",
       "    </tr>\n",
       "  </thead>\n",
       "  <tbody>\n",
       "    <tr>\n",
       "      <th>0</th>\n",
       "      <td>project/data/train_croped_coins/hand/L1010373/...</td>\n",
       "      <td>2CHF</td>\n",
       "      <td>0</td>\n",
       "      <td>data/train_croped_coins/hand/L1010373/L1010373...</td>\n",
       "    </tr>\n",
       "    <tr>\n",
       "      <th>1</th>\n",
       "      <td>project/data/train_croped_coins/hand/L1010373/...</td>\n",
       "      <td>2EUR</td>\n",
       "      <td>1</td>\n",
       "      <td>data/train_croped_coins/hand/L1010373/L1010373...</td>\n",
       "    </tr>\n",
       "    <tr>\n",
       "      <th>2</th>\n",
       "      <td>project/data/train_croped_coins/hand/L1010373/...</td>\n",
       "      <td>0.5CHF</td>\n",
       "      <td>2</td>\n",
       "      <td>data/train_croped_coins/hand/L1010373/L1010373...</td>\n",
       "    </tr>\n",
       "    <tr>\n",
       "      <th>3</th>\n",
       "      <td>project/data/train_croped_coins/hand/L1010375/...</td>\n",
       "      <td>0.5EUR</td>\n",
       "      <td>3</td>\n",
       "      <td>data/train_croped_coins/hand/L1010375/L1010375...</td>\n",
       "    </tr>\n",
       "    <tr>\n",
       "      <th>4</th>\n",
       "      <td>project/data/train_croped_coins/hand/L1010375/...</td>\n",
       "      <td>0.2EUR</td>\n",
       "      <td>4</td>\n",
       "      <td>data/train_croped_coins/hand/L1010375/L1010375...</td>\n",
       "    </tr>\n",
       "  </tbody>\n",
       "</table>\n",
       "</div>"
      ],
      "text/plain": [
       "                                          image_path   label  label_id  \\\n",
       "0  project/data/train_croped_coins/hand/L1010373/...    2CHF         0   \n",
       "1  project/data/train_croped_coins/hand/L1010373/...    2EUR         1   \n",
       "2  project/data/train_croped_coins/hand/L1010373/...  0.5CHF         2   \n",
       "3  project/data/train_croped_coins/hand/L1010375/...  0.5EUR         3   \n",
       "4  project/data/train_croped_coins/hand/L1010375/...  0.2EUR         4   \n",
       "\n",
       "                                    image_path_trunc  \n",
       "0  data/train_croped_coins/hand/L1010373/L1010373...  \n",
       "1  data/train_croped_coins/hand/L1010373/L1010373...  \n",
       "2  data/train_croped_coins/hand/L1010373/L1010373...  \n",
       "3  data/train_croped_coins/hand/L1010375/L1010375...  \n",
       "4  data/train_croped_coins/hand/L1010375/L1010375...  "
      ]
     },
     "execution_count": 36,
     "metadata": {},
     "output_type": "execute_result"
    }
   ],
   "source": [
    "labels_train_path = 'data/coin_train_labels.json'\n",
    "labels_train = json.load(open(labels_train_path))\n",
    "labels_train = pd.Series(labels_train).sort_index().to_frame('label').reset_index().rename(columns={'index': 'image_path'})\n",
    "\n",
    "label_map = {label: i for i, label in enumerate(labels_train['label'].unique())}\n",
    "# Save the label map\n",
    "label_map_path = 'models/label_map.json'\n",
    "with open(label_map_path, 'w') as f:\n",
    "    json.dump(label_map, f)\n",
    "\n",
    "print(label_map)\n",
    "print(\"Number of classes:\", len(label_map))\n",
    "labels_train['label_id'] = labels_train['label'].map(label_map)\n",
    "\n",
    "labels_train['image_path_trunc'] = labels_train['image_path'].apply(lambda x: \"/\".join(x.split('/')[1:]))\n",
    "labels_train.head()"
   ]
  },
  {
   "cell_type": "markdown",
   "metadata": {},
   "source": [
    "### 4.2 Format the data for training and perform data augmentation\n",
    "\n",
    "For the classifier training, we will augment the data by applying simple transformations to the images. This will help the classifier to generalize better to new data.\n",
    "The transformations we will apply are:\n",
    "- **Rotation**: we will rotate the images by a random angle between -180 and 180 degrees\n",
    "- **Jitter**: we will add a small amount of noise to the images\n",
    "\n",
    "We split the data into a training and validation set with startified sampling to ensure that the classes are balanced in both sets."
   ]
  },
  {
   "cell_type": "code",
   "execution_count": 50,
   "metadata": {},
   "outputs": [],
   "source": [
    "class CoinDataset(Dataset):\n",
    "    def __init__(self, data, transform=None):\n",
    "        self.data = data\n",
    "        self.transform = transform\n",
    "\n",
    "    def __len__(self):\n",
    "        return len(self.data)\n",
    "\n",
    "    def __getitem__(self, idx):\n",
    "        label = self.data.iloc[idx]\n",
    "        image = PIL.Image.open(label['image_path_trunc'])\n",
    "        if self.transform:\n",
    "            image = self.transform(image)\n",
    "        return image, label['label_id']\n",
    "\n",
    "    def get_loader(self, batch_size, shuffle=True):\n",
    "        return DataLoader(self, batch_size=batch_size, shuffle=shuffle)\n",
    "\n",
    "train_transform = transforms.Compose([\n",
    "    transforms.Resize(224),  # Resize to a smaller size for faster processing\n",
    "    transforms.RandomRotation(180),  # Data augmentation\n",
    "    transforms.ColorJitter(brightness=0.5, contrast=0.5, saturation=0.4, hue=0.3),\n",
    "    transforms.ToTensor(),          # Convert image to PyTorch tensor\n",
    "    transforms.Normalize(mean=[0.485, 0.456, 0.406], std=[0.229, 0.224, 0.225])  # Normalize\n",
    "])\n",
    "\n",
    "eval_transform = transforms.Compose([\n",
    "    transforms.Resize(224),  # Resize to a smaller size for faster processing\n",
    "    transforms.ToTensor(),          # Convert image to PyTorch tensor\n",
    "    transforms.Normalize(mean=[0.485, 0.456, 0.406], std=[0.229, 0.224, 0.225])  # Normalize\n",
    "])\n",
    "\n",
    "train_data, val_data = train_test_split(labels_train, test_size=0.2, random_state=42, stratify=labels_train['label_id'])\n",
    "\n",
    "train_dataset = CoinDataset(train_data, transform=train_transform)\n",
    "val_dataset = CoinDataset(val_data, transform=eval_transform)\n",
    "\n",
    "batch_size = 16\n",
    "train_loader = train_dataset.get_loader(batch_size=batch_size, shuffle=False)\n",
    "val_loader = val_dataset.get_loader(batch_size=batch_size, shuffle=False)\n",
    "data_loaders = {'train': train_loader, 'val': val_loader}\n",
    "data_sizes = {'train': len(train_data), 'val': len(val_data)}"
   ]
  },
  {
   "cell_type": "markdown",
   "metadata": {},
   "source": [
    "### 4.3 Define the classification model\n",
    "\n",
    "To classify the coins, we will use an efficientnet model. Efficientnet models are state-of-the-art models that are efficient and accurate. We will use the efficientnet-v2-s model, which is a small model that is suitable for this task.\n",
    "We start from the pre-trained weights obtained from pre-training on the imagenet-1k dataset, which contains a large number of images from different classes. We will fine-tune the model on the coin dataset."
   ]
  },
  {
   "cell_type": "code",
   "execution_count": 7,
   "metadata": {},
   "outputs": [
    {
     "name": "stderr",
     "output_type": "stream",
     "text": [
      "Downloading: \"https://download.pytorch.org/models/efficientnet_v2_s-dd5fe13b.pth\" to /root/.cache/torch/hub/checkpoints/efficientnet_v2_s-dd5fe13b.pth\n",
      "100%|██████████| 82.7M/82.7M [00:00<00:00, 110MB/s]\n"
     ]
    }
   ],
   "source": [
    "model = torchvision.models.efficientnet_v2_s(\n",
    "    weights=EfficientNet_V2_S_Weights.IMAGENET1K_V1,\n",
    ")\n",
    "model.classifier = nn.Linear(1280, len(label_map))  # Change the output layer to match the number of classes"
   ]
  },
  {
   "cell_type": "markdown",
   "metadata": {},
   "source": [
    "### 4.4 Train the model"
   ]
  },
  {
   "cell_type": "code",
   "execution_count": 8,
   "metadata": {},
   "outputs": [
    {
     "name": "stdout",
     "output_type": "stream",
     "text": [
      "Epoch 0/29\n",
      "----------\n"
     ]
    },
    {
     "name": "stderr",
     "output_type": "stream",
     "text": [
      "train epoch 0: 100%|██████████| 20/20 [04:12<00:00, 12.61s/it]\n"
     ]
    },
    {
     "name": "stdout",
     "output_type": "stream",
     "text": [
      "train Loss: 2.7503 Acc: 0.1741\n"
     ]
    },
    {
     "name": "stderr",
     "output_type": "stream",
     "text": [
      "val epoch 0: 100%|██████████| 5/5 [00:41<00:00,  8.37s/it]\n"
     ]
    },
    {
     "name": "stdout",
     "output_type": "stream",
     "text": [
      "val Loss: 2.6540 Acc: 0.3418\n",
      "Epoch 1/29\n",
      "----------\n"
     ]
    },
    {
     "name": "stderr",
     "output_type": "stream",
     "text": [
      "train epoch 1: 100%|██████████| 20/20 [00:12<00:00,  1.66it/s]\n"
     ]
    },
    {
     "name": "stdout",
     "output_type": "stream",
     "text": [
      "train Loss: 2.3930 Acc: 0.4019\n"
     ]
    },
    {
     "name": "stderr",
     "output_type": "stream",
     "text": [
      "val epoch 1: 100%|██████████| 5/5 [00:01<00:00,  3.01it/s]\n"
     ]
    },
    {
     "name": "stdout",
     "output_type": "stream",
     "text": [
      "val Loss: 2.0591 Acc: 0.5570\n",
      "Epoch 2/29\n",
      "----------\n"
     ]
    },
    {
     "name": "stderr",
     "output_type": "stream",
     "text": [
      "train epoch 2: 100%|██████████| 20/20 [00:12<00:00,  1.64it/s]\n"
     ]
    },
    {
     "name": "stdout",
     "output_type": "stream",
     "text": [
      "train Loss: 1.7169 Acc: 0.6171\n"
     ]
    },
    {
     "name": "stderr",
     "output_type": "stream",
     "text": [
      "val epoch 2: 100%|██████████| 5/5 [00:01<00:00,  3.01it/s]\n"
     ]
    },
    {
     "name": "stdout",
     "output_type": "stream",
     "text": [
      "val Loss: 1.4312 Acc: 0.5823\n",
      "Epoch 3/29\n",
      "----------\n"
     ]
    },
    {
     "name": "stderr",
     "output_type": "stream",
     "text": [
      "train epoch 3: 100%|██████████| 20/20 [00:12<00:00,  1.64it/s]\n"
     ]
    },
    {
     "name": "stdout",
     "output_type": "stream",
     "text": [
      "train Loss: 1.1588 Acc: 0.7184\n"
     ]
    },
    {
     "name": "stderr",
     "output_type": "stream",
     "text": [
      "val epoch 3: 100%|██████████| 5/5 [00:01<00:00,  3.12it/s]\n"
     ]
    },
    {
     "name": "stdout",
     "output_type": "stream",
     "text": [
      "val Loss: 0.9459 Acc: 0.7468\n",
      "Epoch 4/29\n",
      "----------\n"
     ]
    },
    {
     "name": "stderr",
     "output_type": "stream",
     "text": [
      "train epoch 4: 100%|██████████| 20/20 [00:13<00:00,  1.53it/s]\n"
     ]
    },
    {
     "name": "stdout",
     "output_type": "stream",
     "text": [
      "train Loss: 0.7820 Acc: 0.8165\n"
     ]
    },
    {
     "name": "stderr",
     "output_type": "stream",
     "text": [
      "val epoch 4: 100%|██████████| 5/5 [00:01<00:00,  3.10it/s]\n"
     ]
    },
    {
     "name": "stdout",
     "output_type": "stream",
     "text": [
      "val Loss: 0.6805 Acc: 0.8481\n",
      "Epoch 5/29\n",
      "----------\n"
     ]
    },
    {
     "name": "stderr",
     "output_type": "stream",
     "text": [
      "train epoch 5: 100%|██████████| 20/20 [00:12<00:00,  1.65it/s]\n"
     ]
    },
    {
     "name": "stdout",
     "output_type": "stream",
     "text": [
      "train Loss: 0.5789 Acc: 0.8671\n"
     ]
    },
    {
     "name": "stderr",
     "output_type": "stream",
     "text": [
      "val epoch 5: 100%|██████████| 5/5 [00:01<00:00,  3.03it/s]\n"
     ]
    },
    {
     "name": "stdout",
     "output_type": "stream",
     "text": [
      "val Loss: 0.5258 Acc: 0.8861\n",
      "Epoch 6/29\n",
      "----------\n"
     ]
    },
    {
     "name": "stderr",
     "output_type": "stream",
     "text": [
      "train epoch 6: 100%|██████████| 20/20 [00:12<00:00,  1.63it/s]\n"
     ]
    },
    {
     "name": "stdout",
     "output_type": "stream",
     "text": [
      "train Loss: 0.4249 Acc: 0.9051\n"
     ]
    },
    {
     "name": "stderr",
     "output_type": "stream",
     "text": [
      "val epoch 6: 100%|██████████| 5/5 [00:01<00:00,  2.91it/s]\n"
     ]
    },
    {
     "name": "stdout",
     "output_type": "stream",
     "text": [
      "val Loss: 0.5077 Acc: 0.8861\n",
      "Epoch 7/29\n",
      "----------\n"
     ]
    },
    {
     "name": "stderr",
     "output_type": "stream",
     "text": [
      "train epoch 7: 100%|██████████| 20/20 [00:12<00:00,  1.65it/s]\n"
     ]
    },
    {
     "name": "stdout",
     "output_type": "stream",
     "text": [
      "train Loss: 0.3274 Acc: 0.9082\n"
     ]
    },
    {
     "name": "stderr",
     "output_type": "stream",
     "text": [
      "val epoch 7: 100%|██████████| 5/5 [00:01<00:00,  3.09it/s]\n"
     ]
    },
    {
     "name": "stdout",
     "output_type": "stream",
     "text": [
      "val Loss: 0.4876 Acc: 0.8861\n",
      "Epoch 8/29\n",
      "----------\n"
     ]
    },
    {
     "name": "stderr",
     "output_type": "stream",
     "text": [
      "train epoch 8: 100%|██████████| 20/20 [00:12<00:00,  1.66it/s]\n"
     ]
    },
    {
     "name": "stdout",
     "output_type": "stream",
     "text": [
      "train Loss: 0.2744 Acc: 0.9209\n"
     ]
    },
    {
     "name": "stderr",
     "output_type": "stream",
     "text": [
      "val epoch 8: 100%|██████████| 5/5 [00:01<00:00,  3.08it/s]\n"
     ]
    },
    {
     "name": "stdout",
     "output_type": "stream",
     "text": [
      "val Loss: 0.4136 Acc: 0.9114\n",
      "Epoch 9/29\n",
      "----------\n"
     ]
    },
    {
     "name": "stderr",
     "output_type": "stream",
     "text": [
      "train epoch 9: 100%|██████████| 20/20 [00:12<00:00,  1.64it/s]\n"
     ]
    },
    {
     "name": "stdout",
     "output_type": "stream",
     "text": [
      "train Loss: 0.2396 Acc: 0.9462\n"
     ]
    },
    {
     "name": "stderr",
     "output_type": "stream",
     "text": [
      "val epoch 9: 100%|██████████| 5/5 [00:01<00:00,  3.05it/s]\n"
     ]
    },
    {
     "name": "stdout",
     "output_type": "stream",
     "text": [
      "val Loss: 0.4593 Acc: 0.9114\n",
      "Epoch 10/29\n",
      "----------\n"
     ]
    },
    {
     "name": "stderr",
     "output_type": "stream",
     "text": [
      "train epoch 10: 100%|██████████| 20/20 [00:12<00:00,  1.63it/s]\n"
     ]
    },
    {
     "name": "stdout",
     "output_type": "stream",
     "text": [
      "train Loss: 0.1846 Acc: 0.9620\n"
     ]
    },
    {
     "name": "stderr",
     "output_type": "stream",
     "text": [
      "val epoch 10: 100%|██████████| 5/5 [00:01<00:00,  2.83it/s]\n"
     ]
    },
    {
     "name": "stdout",
     "output_type": "stream",
     "text": [
      "val Loss: 0.4197 Acc: 0.9241\n",
      "Epoch 11/29\n",
      "----------\n"
     ]
    },
    {
     "name": "stderr",
     "output_type": "stream",
     "text": [
      "train epoch 11: 100%|██████████| 20/20 [00:12<00:00,  1.64it/s]\n"
     ]
    },
    {
     "name": "stdout",
     "output_type": "stream",
     "text": [
      "train Loss: 0.1962 Acc: 0.9494\n"
     ]
    },
    {
     "name": "stderr",
     "output_type": "stream",
     "text": [
      "val epoch 11: 100%|██████████| 5/5 [00:01<00:00,  2.99it/s]\n"
     ]
    },
    {
     "name": "stdout",
     "output_type": "stream",
     "text": [
      "val Loss: 0.4831 Acc: 0.8861\n",
      "Epoch 12/29\n",
      "----------\n"
     ]
    },
    {
     "name": "stderr",
     "output_type": "stream",
     "text": [
      "train epoch 12: 100%|██████████| 20/20 [00:12<00:00,  1.65it/s]\n"
     ]
    },
    {
     "name": "stdout",
     "output_type": "stream",
     "text": [
      "train Loss: 0.1424 Acc: 0.9747\n"
     ]
    },
    {
     "name": "stderr",
     "output_type": "stream",
     "text": [
      "val epoch 12: 100%|██████████| 5/5 [00:01<00:00,  3.11it/s]\n"
     ]
    },
    {
     "name": "stdout",
     "output_type": "stream",
     "text": [
      "val Loss: 0.4933 Acc: 0.8987\n",
      "Epoch 13/29\n",
      "----------\n"
     ]
    },
    {
     "name": "stderr",
     "output_type": "stream",
     "text": [
      "train epoch 13: 100%|██████████| 20/20 [00:11<00:00,  1.72it/s]\n"
     ]
    },
    {
     "name": "stdout",
     "output_type": "stream",
     "text": [
      "train Loss: 0.1433 Acc: 0.9684\n"
     ]
    },
    {
     "name": "stderr",
     "output_type": "stream",
     "text": [
      "val epoch 13: 100%|██████████| 5/5 [00:01<00:00,  3.16it/s]\n"
     ]
    },
    {
     "name": "stdout",
     "output_type": "stream",
     "text": [
      "val Loss: 0.4607 Acc: 0.8734\n",
      "Epoch 14/29\n",
      "----------\n"
     ]
    },
    {
     "name": "stderr",
     "output_type": "stream",
     "text": [
      "train epoch 14: 100%|██████████| 20/20 [00:11<00:00,  1.68it/s]\n"
     ]
    },
    {
     "name": "stdout",
     "output_type": "stream",
     "text": [
      "train Loss: 0.1095 Acc: 0.9747\n"
     ]
    },
    {
     "name": "stderr",
     "output_type": "stream",
     "text": [
      "val epoch 14: 100%|██████████| 5/5 [00:01<00:00,  3.11it/s]\n"
     ]
    },
    {
     "name": "stdout",
     "output_type": "stream",
     "text": [
      "val Loss: 0.4815 Acc: 0.9114\n",
      "Epoch 15/29\n",
      "----------\n"
     ]
    },
    {
     "name": "stderr",
     "output_type": "stream",
     "text": [
      "train epoch 15: 100%|██████████| 20/20 [00:12<00:00,  1.55it/s]\n"
     ]
    },
    {
     "name": "stdout",
     "output_type": "stream",
     "text": [
      "train Loss: 0.0841 Acc: 0.9905\n"
     ]
    },
    {
     "name": "stderr",
     "output_type": "stream",
     "text": [
      "val epoch 15: 100%|██████████| 5/5 [00:01<00:00,  2.88it/s]\n"
     ]
    },
    {
     "name": "stdout",
     "output_type": "stream",
     "text": [
      "val Loss: 0.3744 Acc: 0.9241\n",
      "Epoch 16/29\n",
      "----------\n"
     ]
    },
    {
     "name": "stderr",
     "output_type": "stream",
     "text": [
      "train epoch 16: 100%|██████████| 20/20 [00:11<00:00,  1.73it/s]\n"
     ]
    },
    {
     "name": "stdout",
     "output_type": "stream",
     "text": [
      "train Loss: 0.1168 Acc: 0.9810\n"
     ]
    },
    {
     "name": "stderr",
     "output_type": "stream",
     "text": [
      "val epoch 16: 100%|██████████| 5/5 [00:01<00:00,  2.54it/s]\n"
     ]
    },
    {
     "name": "stdout",
     "output_type": "stream",
     "text": [
      "val Loss: 0.3976 Acc: 0.9367\n",
      "Epoch 17/29\n",
      "----------\n"
     ]
    },
    {
     "name": "stderr",
     "output_type": "stream",
     "text": [
      "train epoch 17: 100%|██████████| 20/20 [00:11<00:00,  1.75it/s]\n"
     ]
    },
    {
     "name": "stdout",
     "output_type": "stream",
     "text": [
      "train Loss: 0.0705 Acc: 0.9905\n"
     ]
    },
    {
     "name": "stderr",
     "output_type": "stream",
     "text": [
      "val epoch 17: 100%|██████████| 5/5 [00:02<00:00,  2.33it/s]\n"
     ]
    },
    {
     "name": "stdout",
     "output_type": "stream",
     "text": [
      "val Loss: 0.4544 Acc: 0.9114\n",
      "Epoch 18/29\n",
      "----------\n"
     ]
    },
    {
     "name": "stderr",
     "output_type": "stream",
     "text": [
      "train epoch 18: 100%|██████████| 20/20 [00:11<00:00,  1.73it/s]\n"
     ]
    },
    {
     "name": "stdout",
     "output_type": "stream",
     "text": [
      "train Loss: 0.1178 Acc: 0.9620\n"
     ]
    },
    {
     "name": "stderr",
     "output_type": "stream",
     "text": [
      "val epoch 18: 100%|██████████| 5/5 [00:02<00:00,  2.34it/s]\n"
     ]
    },
    {
     "name": "stdout",
     "output_type": "stream",
     "text": [
      "val Loss: 0.6464 Acc: 0.8861\n",
      "Epoch 19/29\n",
      "----------\n"
     ]
    },
    {
     "name": "stderr",
     "output_type": "stream",
     "text": [
      "train epoch 19: 100%|██████████| 20/20 [00:11<00:00,  1.79it/s]\n"
     ]
    },
    {
     "name": "stdout",
     "output_type": "stream",
     "text": [
      "train Loss: 0.1584 Acc: 0.9494\n"
     ]
    },
    {
     "name": "stderr",
     "output_type": "stream",
     "text": [
      "val epoch 19: 100%|██████████| 5/5 [00:02<00:00,  2.19it/s]\n"
     ]
    },
    {
     "name": "stdout",
     "output_type": "stream",
     "text": [
      "val Loss: 0.3827 Acc: 0.9494\n",
      "Epoch 20/29\n",
      "----------\n"
     ]
    },
    {
     "name": "stderr",
     "output_type": "stream",
     "text": [
      "train epoch 20: 100%|██████████| 20/20 [00:11<00:00,  1.75it/s]\n"
     ]
    },
    {
     "name": "stdout",
     "output_type": "stream",
     "text": [
      "train Loss: 0.0742 Acc: 0.9842\n"
     ]
    },
    {
     "name": "stderr",
     "output_type": "stream",
     "text": [
      "val epoch 20: 100%|██████████| 5/5 [00:02<00:00,  2.16it/s]\n"
     ]
    },
    {
     "name": "stdout",
     "output_type": "stream",
     "text": [
      "val Loss: 0.4311 Acc: 0.9241\n",
      "Epoch 21/29\n",
      "----------\n"
     ]
    },
    {
     "name": "stderr",
     "output_type": "stream",
     "text": [
      "train epoch 21: 100%|██████████| 20/20 [00:11<00:00,  1.74it/s]\n"
     ]
    },
    {
     "name": "stdout",
     "output_type": "stream",
     "text": [
      "train Loss: 0.0404 Acc: 1.0000\n"
     ]
    },
    {
     "name": "stderr",
     "output_type": "stream",
     "text": [
      "val epoch 21: 100%|██████████| 5/5 [00:02<00:00,  2.13it/s]\n"
     ]
    },
    {
     "name": "stdout",
     "output_type": "stream",
     "text": [
      "val Loss: 0.3965 Acc: 0.9494\n",
      "Epoch 22/29\n",
      "----------\n"
     ]
    },
    {
     "name": "stderr",
     "output_type": "stream",
     "text": [
      "train epoch 22: 100%|██████████| 20/20 [00:11<00:00,  1.72it/s]\n"
     ]
    },
    {
     "name": "stdout",
     "output_type": "stream",
     "text": [
      "train Loss: 0.0467 Acc: 0.9937\n"
     ]
    },
    {
     "name": "stderr",
     "output_type": "stream",
     "text": [
      "val epoch 22: 100%|██████████| 5/5 [00:02<00:00,  2.08it/s]\n"
     ]
    },
    {
     "name": "stdout",
     "output_type": "stream",
     "text": [
      "val Loss: 0.4613 Acc: 0.8987\n",
      "Epoch 23/29\n",
      "----------\n"
     ]
    },
    {
     "name": "stderr",
     "output_type": "stream",
     "text": [
      "train epoch 23: 100%|██████████| 20/20 [00:11<00:00,  1.69it/s]\n"
     ]
    },
    {
     "name": "stdout",
     "output_type": "stream",
     "text": [
      "train Loss: 0.0519 Acc: 0.9905\n"
     ]
    },
    {
     "name": "stderr",
     "output_type": "stream",
     "text": [
      "val epoch 23: 100%|██████████| 5/5 [00:02<00:00,  2.05it/s]\n"
     ]
    },
    {
     "name": "stdout",
     "output_type": "stream",
     "text": [
      "val Loss: 0.3929 Acc: 0.9114\n",
      "Epoch 24/29\n",
      "----------\n"
     ]
    },
    {
     "name": "stderr",
     "output_type": "stream",
     "text": [
      "train epoch 24: 100%|██████████| 20/20 [00:11<00:00,  1.69it/s]\n"
     ]
    },
    {
     "name": "stdout",
     "output_type": "stream",
     "text": [
      "train Loss: 0.0542 Acc: 0.9905\n"
     ]
    },
    {
     "name": "stderr",
     "output_type": "stream",
     "text": [
      "val epoch 24: 100%|██████████| 5/5 [00:02<00:00,  2.06it/s]\n"
     ]
    },
    {
     "name": "stdout",
     "output_type": "stream",
     "text": [
      "val Loss: 0.3912 Acc: 0.9367\n",
      "Epoch 25/29\n",
      "----------\n"
     ]
    },
    {
     "name": "stderr",
     "output_type": "stream",
     "text": [
      "train epoch 25: 100%|██████████| 20/20 [00:11<00:00,  1.71it/s]\n"
     ]
    },
    {
     "name": "stdout",
     "output_type": "stream",
     "text": [
      "train Loss: 0.0581 Acc: 0.9810\n"
     ]
    },
    {
     "name": "stderr",
     "output_type": "stream",
     "text": [
      "val epoch 25: 100%|██████████| 5/5 [00:02<00:00,  2.11it/s]\n"
     ]
    },
    {
     "name": "stdout",
     "output_type": "stream",
     "text": [
      "val Loss: 0.4018 Acc: 0.9241\n",
      "Epoch 26/29\n",
      "----------\n"
     ]
    },
    {
     "name": "stderr",
     "output_type": "stream",
     "text": [
      "train epoch 26: 100%|██████████| 20/20 [00:12<00:00,  1.64it/s]\n"
     ]
    },
    {
     "name": "stdout",
     "output_type": "stream",
     "text": [
      "train Loss: 0.0546 Acc: 0.9747\n"
     ]
    },
    {
     "name": "stderr",
     "output_type": "stream",
     "text": [
      "val epoch 26: 100%|██████████| 5/5 [00:02<00:00,  1.78it/s]\n"
     ]
    },
    {
     "name": "stdout",
     "output_type": "stream",
     "text": [
      "val Loss: 0.6681 Acc: 0.8481\n",
      "Epoch 27/29\n",
      "----------\n"
     ]
    },
    {
     "name": "stderr",
     "output_type": "stream",
     "text": [
      "train epoch 27: 100%|██████████| 20/20 [00:12<00:00,  1.62it/s]\n"
     ]
    },
    {
     "name": "stdout",
     "output_type": "stream",
     "text": [
      "train Loss: 0.0779 Acc: 0.9778\n"
     ]
    },
    {
     "name": "stderr",
     "output_type": "stream",
     "text": [
      "val epoch 27: 100%|██████████| 5/5 [00:02<00:00,  2.32it/s]\n"
     ]
    },
    {
     "name": "stdout",
     "output_type": "stream",
     "text": [
      "val Loss: 0.3845 Acc: 0.9367\n",
      "Epoch 28/29\n",
      "----------\n"
     ]
    },
    {
     "name": "stderr",
     "output_type": "stream",
     "text": [
      "train epoch 28: 100%|██████████| 20/20 [00:11<00:00,  1.75it/s]\n"
     ]
    },
    {
     "name": "stdout",
     "output_type": "stream",
     "text": [
      "train Loss: 0.0723 Acc: 0.9842\n"
     ]
    },
    {
     "name": "stderr",
     "output_type": "stream",
     "text": [
      "val epoch 28: 100%|██████████| 5/5 [00:02<00:00,  2.49it/s]\n"
     ]
    },
    {
     "name": "stdout",
     "output_type": "stream",
     "text": [
      "val Loss: 0.4106 Acc: 0.9367\n",
      "Epoch 29/29\n",
      "----------\n"
     ]
    },
    {
     "name": "stderr",
     "output_type": "stream",
     "text": [
      "train epoch 29: 100%|██████████| 20/20 [00:11<00:00,  1.71it/s]\n"
     ]
    },
    {
     "name": "stdout",
     "output_type": "stream",
     "text": [
      "train Loss: 0.0890 Acc: 0.9747\n"
     ]
    },
    {
     "name": "stderr",
     "output_type": "stream",
     "text": [
      "val epoch 29: 100%|██████████| 5/5 [00:01<00:00,  2.67it/s]\n"
     ]
    },
    {
     "name": "stdout",
     "output_type": "stream",
     "text": [
      "val Loss: 0.6208 Acc: 0.8987\n",
      "Model saved\n"
     ]
    }
   ],
   "source": [
    "from coin_calssification_utils import train_model\n",
    "device = 'cuda' if torch.cuda.is_available() else 'cpu'\n",
    "\n",
    "criterion = nn.CrossEntropyLoss()\n",
    "optimizer = torch.optim.Adam(model.parameters(), lr=1e-4)\n",
    "\n",
    "best_model_weights, acc_hist = train_model(\n",
    "    model=model,\n",
    "    dataloaders=data_loaders,\n",
    "    dataset_sizes=data_sizes,\n",
    "    criterion=criterion,\n",
    "    optimizer=optimizer,\n",
    "    device=device,\n",
    "    num_epochs=30,\n",
    ")\n",
    "\n",
    "# Save the model for inference on the test set and evaluation\n",
    "model_path = 'models/efficient_net_coin_classifier.pth'\n",
    "torch.save(best_model_weights, model_path)\n",
    "print('Model saved')"
   ]
  },
  {
   "cell_type": "code",
   "execution_count": 12,
   "metadata": {},
   "outputs": [
    {
     "data": {
      "image/png": "[encoded data removed]",
      "text/plain": [
       "<Figure size 1000x600 with 1 Axes>"
      ]
     },
     "metadata": {},
     "output_type": "display_data"
    }
   ],
   "source": [
    "# Visualize the training progress and plot the best epoch\n",
    "\n",
    "fig, ax = plt.subplots(figsize=(10, 6))\n",
    "plt.plot(acc_hist['train'], label='train')\n",
    "plt.plot(acc_hist['val'], label='val')\n",
    "\n",
    "best_epoch = np.argmax(acc_hist['val'])\n",
    "plt.axvline(best_epoch, color='black', linestyle='--', label='best epoch')\n",
    "\n",
    "plt.xlabel('Epoch')\n",
    "plt.ylabel('Accuracy')\n",
    "plt.legend()\n",
    "plt.show()"
   ]
  },
  {
   "cell_type": "markdown",
   "metadata": {},
   "source": [
    "### 4.5 Evaluate the model on the validation set"
   ]
  },
  {
   "cell_type": "code",
   "execution_count": 41,
   "metadata": {},
   "outputs": [
    {
     "data": {
      "text/plain": [
       "<All keys matched successfully>"
      ]
     },
     "execution_count": 41,
     "metadata": {},
     "output_type": "execute_result"
    }
   ],
   "source": [
    "from coin_calssification_utils import get_model\n",
    "\n",
    "# Load the model\n",
    "model = get_model(num_classes=len(label_map))\n",
    "device = torch.device(\"cuda\" if torch.cuda.is_available() else \"cpu\")\n",
    "model_state_dict = torch.load('models_weights/efficient_net_coin_classifier.pth', map_location=device)\n",
    "model.load_state_dict(model_state_dict)"
   ]
  },
  {
   "cell_type": "code",
   "execution_count": 60,
   "metadata": {},
   "outputs": [
    {
     "name": "stderr",
     "output_type": "stream",
     "text": [
      "Validation evaluation: 100%|██████████| 5/5 [00:08<00:00,  1.68s/it]\n"
     ]
    }
   ],
   "source": [
    "# Compute the accuracy on the validation set per class\n",
    "\n",
    "model.eval()\n",
    "model.to(device)\n",
    "\n",
    "correct = 0\n",
    "total = 0\n",
    "class_correct = {label: 0 for label in label_map}\n",
    "class_total = {label: 0 for label in label_map}\n",
    "        \n",
    "for images, labels in tqdm(val_loader, desc='Validation evaluation'):\n",
    "    images, labels = images.to(device), labels.to(device)\n",
    "    outputs = model(images)\n",
    "    _, predicted = torch.max(outputs, 1)\n",
    "    total += labels.size(0)\n",
    "    correct += (predicted == labels).sum().item()\n",
    "    for label, id in label_map.items():\n",
    "        class_total[label] += (labels == id).sum().item()\n",
    "        class_correct[label] += ((predicted == labels) & (labels == id)).sum().item()"
   ]
  },
  {
   "cell_type": "code",
   "execution_count": 57,
   "metadata": {},
   "outputs": [
    {
     "name": "stdout",
     "output_type": "stream",
     "text": [
      "Accuracy of the network on the validation set: 94 %\n"
     ]
    },
    {
     "data": {
      "text/html": [
       "<div>\n",
       "<style scoped>\n",
       "    .dataframe tbody tr th:only-of-type {\n",
       "        vertical-align: middle;\n",
       "    }\n",
       "\n",
       "    .dataframe tbody tr th {\n",
       "        vertical-align: top;\n",
       "    }\n",
       "\n",
       "    .dataframe thead th {\n",
       "        text-align: right;\n",
       "    }\n",
       "</style>\n",
       "<table border=\"1\" class=\"dataframe\">\n",
       "  <thead>\n",
       "    <tr style=\"text-align: right;\">\n",
       "      <th></th>\n",
       "      <th>accuracy</th>\n",
       "      <th>class_proportion</th>\n",
       "    </tr>\n",
       "  </thead>\n",
       "  <tbody>\n",
       "    <tr>\n",
       "      <th>0.01EUR</th>\n",
       "      <td>100.0</td>\n",
       "      <td>4.55%</td>\n",
       "    </tr>\n",
       "    <tr>\n",
       "      <th>0.02EUR</th>\n",
       "      <td>100.0</td>\n",
       "      <td>5.88%</td>\n",
       "    </tr>\n",
       "    <tr>\n",
       "      <th>Not a coin</th>\n",
       "      <td>100.0</td>\n",
       "      <td>3.21%</td>\n",
       "    </tr>\n",
       "    <tr>\n",
       "      <th>5CHF</th>\n",
       "      <td>100.0</td>\n",
       "      <td>6.42%</td>\n",
       "    </tr>\n",
       "    <tr>\n",
       "      <th>2EUR</th>\n",
       "      <td>100.0</td>\n",
       "      <td>8.56%</td>\n",
       "    </tr>\n",
       "    <tr>\n",
       "      <th>2CHF</th>\n",
       "      <td>100.0</td>\n",
       "      <td>5.35%</td>\n",
       "    </tr>\n",
       "    <tr>\n",
       "      <th>1EUR</th>\n",
       "      <td>100.0</td>\n",
       "      <td>2.67%</td>\n",
       "    </tr>\n",
       "    <tr>\n",
       "      <th>0.5EUR</th>\n",
       "      <td>100.0</td>\n",
       "      <td>7.49%</td>\n",
       "    </tr>\n",
       "    <tr>\n",
       "      <th>OOD</th>\n",
       "      <td>100.0</td>\n",
       "      <td>13.10%</td>\n",
       "    </tr>\n",
       "    <tr>\n",
       "      <th>0.2EUR</th>\n",
       "      <td>100.0</td>\n",
       "      <td>7.75%</td>\n",
       "    </tr>\n",
       "    <tr>\n",
       "      <th>0.2CHF</th>\n",
       "      <td>100.0</td>\n",
       "      <td>2.94%</td>\n",
       "    </tr>\n",
       "    <tr>\n",
       "      <th>0.1EUR</th>\n",
       "      <td>100.0</td>\n",
       "      <td>5.61%</td>\n",
       "    </tr>\n",
       "    <tr>\n",
       "      <th>0.05EUR</th>\n",
       "      <td>100.0</td>\n",
       "      <td>6.95%</td>\n",
       "    </tr>\n",
       "    <tr>\n",
       "      <th>0.05CHF</th>\n",
       "      <td>100.0</td>\n",
       "      <td>3.48%</td>\n",
       "    </tr>\n",
       "    <tr>\n",
       "      <th>0.1CHF</th>\n",
       "      <td>75.0</td>\n",
       "      <td>4.81%</td>\n",
       "    </tr>\n",
       "    <tr>\n",
       "      <th>0.5CHF</th>\n",
       "      <td>75.0</td>\n",
       "      <td>5.35%</td>\n",
       "    </tr>\n",
       "    <tr>\n",
       "      <th>1CHF</th>\n",
       "      <td>50.0</td>\n",
       "      <td>5.88%</td>\n",
       "    </tr>\n",
       "  </tbody>\n",
       "</table>\n",
       "</div>"
      ],
      "text/plain": [
       "            accuracy class_proportion\n",
       "0.01EUR        100.0            4.55%\n",
       "0.02EUR        100.0            5.88%\n",
       "Not a coin     100.0            3.21%\n",
       "5CHF           100.0            6.42%\n",
       "2EUR           100.0            8.56%\n",
       "2CHF           100.0            5.35%\n",
       "1EUR           100.0            2.67%\n",
       "0.5EUR         100.0            7.49%\n",
       "OOD            100.0           13.10%\n",
       "0.2EUR         100.0            7.75%\n",
       "0.2CHF         100.0            2.94%\n",
       "0.1EUR         100.0            5.61%\n",
       "0.05EUR        100.0            6.95%\n",
       "0.05CHF        100.0            3.48%\n",
       "0.1CHF          75.0            4.81%\n",
       "0.5CHF          75.0            5.35%\n",
       "1CHF            50.0            5.88%"
      ]
     },
     "execution_count": 57,
     "metadata": {},
     "output_type": "execute_result"
    }
   ],
   "source": [
    "print('Accuracy of the network on the validation set: %d %%' % (100 * correct / total))\n",
    "class_accuracy = {label: 100 * class_correct[label] / class_total[label] for label in label_map}\n",
    "\n",
    "class_acc_df = pd.Series(class_accuracy).sort_values(ascending=False)\n",
    "label_counts = labels_train['label'].value_counts(normalize=True)\n",
    "\n",
    "class_acc_df = pd.DataFrame({'accuracy': class_acc_df, 'class_proportion': label_counts})\n",
    "class_acc_df['class_proportion'] = class_acc_df['class_proportion'].map(lambda x: f'{x:.2%}')\n",
    "class_acc_df.sort_values('accuracy', ascending=False, inplace=True)\n",
    "class_acc_df"
   ]
  },
  {
   "cell_type": "markdown",
   "metadata": {},
   "source": [
    "We observe that the model has a high accuracy on the validation set (94%), which indicates that it is able to generalize well to new data.\n",
    "Even tough our classes are unballanced, we do not observe a performance drop on minority classes.\n",
    "Hence we decided not to apply any class balancing techniques."
   ]
  }
 ],
 "metadata": {
  "kernelspec": {
   "display_name": "IAPR",
   "language": "python",
   "name": "python3"
  },
  "language_info": {
   "codemirror_mode": {
    "name": "ipython",
    "version": 3
   },
   "file_extension": ".py",
   "mimetype": "text/x-python",
   "name": "python",
   "nbconvert_exporter": "python",
   "pygments_lexer": "ipython3",
   "version": "3.9.18"
  }
 },
 "nbformat": 4,
 "nbformat_minor": 2
}
